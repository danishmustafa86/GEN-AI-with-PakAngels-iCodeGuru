{
 "cells": [
  {
   "cell_type": "code",
   "execution_count": 1,
   "metadata": {},
   "outputs": [
    {
     "name": "stderr",
     "output_type": "stream",
     "text": [
      "2024-08-07 20:15:20.340 \n",
      "  \u001b[33m\u001b[1mWarning:\u001b[0m to view this Streamlit app on a browser, run it with the following\n",
      "  command:\n",
      "\n",
      "    streamlit run d:\\Programming\\Generative-AI-course-with-pak-angels-icodeguru\\python-streamlit-calculator-module-3\\.venv\\Lib\\site-packages\\ipykernel_launcher.py [ARGUMENTS]\n",
      "2024-08-07 20:15:20.342 Session state does not function when running a script without `streamlit run`\n"
     ]
    }
   ],
   "source": [
    "from typing import Union\n",
    "import streamlit as st  # type: ignore\n",
    "\n",
    "# Title of the web app\n",
    "st.title(\"Simple Calculator\")\n",
    "\n",
    "# Input fields for the two numbers\n",
    "number1 = st.number_input(\"Enter first number\", format=\"%f\")\n",
    "number2 = st.number_input(\"Enter second number\", format=\"%f\")\n",
    "\n",
    "# Radio buttons for selecting the operation\n",
    "operation = st.radio(\"Select operation\", (\"Add\", \"Subtract\", \"Multiply\", \"Divide\"))\n",
    "\n",
    "# Initialize result\n",
    "result: Union[int, float, None] = None\n",
    "\n",
    "# Calculate the result based on the selected operation\n",
    "if st.button(\"Calculate\"):\n",
    "    if operation == \"Add\":\n",
    "        result = number1 + number2\n",
    "    elif operation == \"Subtract\":\n",
    "        result = number1 - number2\n",
    "    elif operation == \"Multiply\":\n",
    "        result = number1 * number2\n",
    "    elif operation == \"Divide\":\n",
    "        if number2 != 0:\n",
    "            result = number1 / number2\n",
    "        else:\n",
    "            st.error(\"Cannot divide by zero\")\n",
    "            result = None\n",
    "    \n",
    "    # Display the result\n",
    "    if result is not None:\n",
    "        st.success(f\"The result is: {result}\")\n"
   ]
  }
 ],
 "metadata": {
  "kernelspec": {
   "display_name": ".venv",
   "language": "python",
   "name": "python3"
  },
  "language_info": {
   "codemirror_mode": {
    "name": "ipython",
    "version": 3
   },
   "file_extension": ".py",
   "mimetype": "text/x-python",
   "name": "python",
   "nbconvert_exporter": "python",
   "pygments_lexer": "ipython3",
   "version": "3.12.2"
  }
 },
 "nbformat": 4,
 "nbformat_minor": 2
}
